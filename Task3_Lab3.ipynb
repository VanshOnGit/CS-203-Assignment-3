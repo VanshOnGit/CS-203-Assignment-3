{
  "nbformat": 4,
  "nbformat_minor": 0,
  "metadata": {
    "colab": {
      "provenance": []
    },
    "kernelspec": {
      "name": "python3",
      "display_name": "Python 3"
    },
    "language_info": {
      "name": "python"
    }
  },
  "cells": [
    {
      "cell_type": "markdown",
      "source": [
        "## Calculating Cohen Kappa score"
      ],
      "metadata": {
        "id": "gIXyzV-1ws21"
      }
    },
    {
      "cell_type": "code",
      "source": [
        "# Importing required libraries\n",
        "\n",
        "import pandas as pd   # To work with the csv files by converting them to Dataframes\n",
        "from sklearn.metrics import cohen_kappa_score, confusion_matrix  # inbuilt functions for calculating scores\n",
        "from statsmodels.stats.inter_rater import fleiss_kappa\n",
        "import numpy as np"
      ],
      "metadata": {
        "id": "ubXnBi--6-Qe"
      },
      "execution_count": null,
      "outputs": []
    },
    {
      "cell_type": "code",
      "execution_count": null,
      "metadata": {
        "id": "I7uVowT36PoY"
      },
      "outputs": [],
      "source": [
        "dataset_NLP_1 = pd.read_csv(\"Vansh_Annotations_NLP.csv\")   # loading datasets\n",
        "dataset_NLP_2 = pd.read_csv(\"Aditya_Annotations_NLP.csv\")\n",
        "\n",
        "df_CV_1 = pd.read_csv(\"Vansh_Annotations_CV.csv\")\n",
        "df_CV_2 = pd.read_csv(\"Aditya_Annotations_CV.csv\")\n",
        "df_CV_3 = pd.read_csv(\"Soham_Annotations_CV.csv\")"
      ]
    },
    {
      "cell_type": "code",
      "source": [
        "labels1 = dataset_NLP_1[\"ner_label\"].tolist()    # List of 'ner_label' labels from the first annotator\n",
        "labels2 = dataset_NLP_2[\"ner_label\"].tolist()    # List of 'ner_label' labels from the second annotator"
      ],
      "metadata": {
        "id": "1jM0V9-SrOJu"
      },
      "execution_count": null,
      "outputs": []
    },
    {
      "cell_type": "markdown",
      "source": [
        "![image.png](data:image/png;base64,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)"
      ],
      "metadata": {
        "id": "LP7d47AaykHI"
      }
    },
    {
      "cell_type": "code",
      "source": [
        "cohen_kappa_inbuilt = cohen_kappa_score(labels1, labels2)   # using the cohen_kappa_score function\n",
        "cohen_kappa_inbuilt"
      ],
      "metadata": {
        "colab": {
          "base_uri": "https://localhost:8080/"
        },
        "id": "WO9utO7Cr8HN",
        "outputId": "7a5a9621-2f36-4bab-a46a-6c5ba33bb2e1"
      },
      "execution_count": null,
      "outputs": [
        {
          "output_type": "execute_result",
          "data": {
            "text/plain": [
              "0.8952879581151832"
            ]
          },
          "metadata": {},
          "execution_count": 53
        }
      ]
    },
    {
      "cell_type": "markdown",
      "source": [
        "## **Cohen's Kappa for NLP Dataset: 0.895**\n",
        "  - A score of **0.895** shows **almost perfect agreement** between both of us teammates.\n",
        "  - Both of us were highly consistent in our annotations for the NLP dataset."
      ],
      "metadata": {
        "id": "EKyeJtgywm3U"
      }
    },
    {
      "cell_type": "markdown",
      "source": [
        "# Calculating Fleiss Kappa\n"
      ],
      "metadata": {
        "id": "jqEHsqxlC2Qg"
      }
    },
    {
      "cell_type": "code",
      "source": [
        "merged = pd.merge(df_CV_1, df_CV_2, on = \"annotation_id\", suffixes = (\"_ann1\", \"_ann2\"))      # merging the datasets on annotator id\n",
        "merged_new = pd.merge(merged, df_CV_3, on=\"annotation_id\", suffixes=(\"\",\"_ann3\"))\n",
        "merged_new = merged_new[[\"annotation_id\", \"classification_ann1\", \"classification_ann2\", \"classification\"]]\n",
        "merged_new[\"classification_ann3\"] = merged_new[\"classification\"]                              # classification done by all annotators\n",
        "merged_new = merged_new.drop(columns=[\"classification\"])\n",
        "merged_new.head(3)"
      ],
      "metadata": {
        "colab": {
          "base_uri": "https://localhost:8080/",
          "height": 143
        },
        "id": "chaL5YmTGQ32",
        "outputId": "d2361588-2d8e-4157-82c1-e64ee8fa126a"
      },
      "execution_count": null,
      "outputs": [
        {
          "output_type": "execute_result",
          "data": {
            "text/plain": [
              "   annotation_id classification_ann1 classification_ann2 classification_ann3\n",
              "0              1              Trucks              Trucks              Trucks\n",
              "1              2              Trucks           No Trucks           No Trucks\n",
              "2              3           No Trucks           No Trucks           No Trucks"
            ],
            "text/html": [
              "\n",
              "  <div id=\"df-f7104e80-c557-429b-b8ae-dbc0ce5a2f6c\" class=\"colab-df-container\">\n",
              "    <div>\n",
              "<style scoped>\n",
              "    .dataframe tbody tr th:only-of-type {\n",
              "        vertical-align: middle;\n",
              "    }\n",
              "\n",
              "    .dataframe tbody tr th {\n",
              "        vertical-align: top;\n",
              "    }\n",
              "\n",
              "    .dataframe thead th {\n",
              "        text-align: right;\n",
              "    }\n",
              "</style>\n",
              "<table border=\"1\" class=\"dataframe\">\n",
              "  <thead>\n",
              "    <tr style=\"text-align: right;\">\n",
              "      <th></th>\n",
              "      <th>annotation_id</th>\n",
              "      <th>classification_ann1</th>\n",
              "      <th>classification_ann2</th>\n",
              "      <th>classification_ann3</th>\n",
              "    </tr>\n",
              "  </thead>\n",
              "  <tbody>\n",
              "    <tr>\n",
              "      <th>0</th>\n",
              "      <td>1</td>\n",
              "      <td>Trucks</td>\n",
              "      <td>Trucks</td>\n",
              "      <td>Trucks</td>\n",
              "    </tr>\n",
              "    <tr>\n",
              "      <th>1</th>\n",
              "      <td>2</td>\n",
              "      <td>Trucks</td>\n",
              "      <td>No Trucks</td>\n",
              "      <td>No Trucks</td>\n",
              "    </tr>\n",
              "    <tr>\n",
              "      <th>2</th>\n",
              "      <td>3</td>\n",
              "      <td>No Trucks</td>\n",
              "      <td>No Trucks</td>\n",
              "      <td>No Trucks</td>\n",
              "    </tr>\n",
              "  </tbody>\n",
              "</table>\n",
              "</div>\n",
              "    <div class=\"colab-df-buttons\">\n",
              "\n",
              "  <div class=\"colab-df-container\">\n",
              "    <button class=\"colab-df-convert\" onclick=\"convertToInteractive('df-f7104e80-c557-429b-b8ae-dbc0ce5a2f6c')\"\n",
              "            title=\"Convert this dataframe to an interactive table.\"\n",
              "            style=\"display:none;\">\n",
              "\n",
              "  <svg xmlns=\"http://www.w3.org/2000/svg\" height=\"24px\" viewBox=\"0 -960 960 960\">\n",
              "    <path d=\"M120-120v-720h720v720H120Zm60-500h600v-160H180v160Zm220 220h160v-160H400v160Zm0 220h160v-160H400v160ZM180-400h160v-160H180v160Zm440 0h160v-160H620v160ZM180-180h160v-160H180v160Zm440 0h160v-160H620v160Z\"/>\n",
              "  </svg>\n",
              "    </button>\n",
              "\n",
              "  <style>\n",
              "    .colab-df-container {\n",
              "      display:flex;\n",
              "      gap: 12px;\n",
              "    }\n",
              "\n",
              "    .colab-df-convert {\n",
              "      background-color: #E8F0FE;\n",
              "      border: none;\n",
              "      border-radius: 50%;\n",
              "      cursor: pointer;\n",
              "      display: none;\n",
              "      fill: #1967D2;\n",
              "      height: 32px;\n",
              "      padding: 0 0 0 0;\n",
              "      width: 32px;\n",
              "    }\n",
              "\n",
              "    .colab-df-convert:hover {\n",
              "      background-color: #E2EBFA;\n",
              "      box-shadow: 0px 1px 2px rgba(60, 64, 67, 0.3), 0px 1px 3px 1px rgba(60, 64, 67, 0.15);\n",
              "      fill: #174EA6;\n",
              "    }\n",
              "\n",
              "    .colab-df-buttons div {\n",
              "      margin-bottom: 4px;\n",
              "    }\n",
              "\n",
              "    [theme=dark] .colab-df-convert {\n",
              "      background-color: #3B4455;\n",
              "      fill: #D2E3FC;\n",
              "    }\n",
              "\n",
              "    [theme=dark] .colab-df-convert:hover {\n",
              "      background-color: #434B5C;\n",
              "      box-shadow: 0px 1px 3px 1px rgba(0, 0, 0, 0.15);\n",
              "      filter: drop-shadow(0px 1px 2px rgba(0, 0, 0, 0.3));\n",
              "      fill: #FFFFFF;\n",
              "    }\n",
              "  </style>\n",
              "\n",
              "    <script>\n",
              "      const buttonEl =\n",
              "        document.querySelector('#df-f7104e80-c557-429b-b8ae-dbc0ce5a2f6c button.colab-df-convert');\n",
              "      buttonEl.style.display =\n",
              "        google.colab.kernel.accessAllowed ? 'block' : 'none';\n",
              "\n",
              "      async function convertToInteractive(key) {\n",
              "        const element = document.querySelector('#df-f7104e80-c557-429b-b8ae-dbc0ce5a2f6c');\n",
              "        const dataTable =\n",
              "          await google.colab.kernel.invokeFunction('convertToInteractive',\n",
              "                                                    [key], {});\n",
              "        if (!dataTable) return;\n",
              "\n",
              "        const docLinkHtml = 'Like what you see? Visit the ' +\n",
              "          '<a target=\"_blank\" href=https://colab.research.google.com/notebooks/data_table.ipynb>data table notebook</a>'\n",
              "          + ' to learn more about interactive tables.';\n",
              "        element.innerHTML = '';\n",
              "        dataTable['output_type'] = 'display_data';\n",
              "        await google.colab.output.renderOutput(dataTable, element);\n",
              "        const docLink = document.createElement('div');\n",
              "        docLink.innerHTML = docLinkHtml;\n",
              "        element.appendChild(docLink);\n",
              "      }\n",
              "    </script>\n",
              "  </div>\n",
              "\n",
              "\n",
              "<div id=\"df-3335c711-34c6-489f-88bf-cec023a48b65\">\n",
              "  <button class=\"colab-df-quickchart\" onclick=\"quickchart('df-3335c711-34c6-489f-88bf-cec023a48b65')\"\n",
              "            title=\"Suggest charts\"\n",
              "            style=\"display:none;\">\n",
              "\n",
              "<svg xmlns=\"http://www.w3.org/2000/svg\" height=\"24px\"viewBox=\"0 0 24 24\"\n",
              "     width=\"24px\">\n",
              "    <g>\n",
              "        <path d=\"M19 3H5c-1.1 0-2 .9-2 2v14c0 1.1.9 2 2 2h14c1.1 0 2-.9 2-2V5c0-1.1-.9-2-2-2zM9 17H7v-7h2v7zm4 0h-2V7h2v10zm4 0h-2v-4h2v4z\"/>\n",
              "    </g>\n",
              "</svg>\n",
              "  </button>\n",
              "\n",
              "<style>\n",
              "  .colab-df-quickchart {\n",
              "      --bg-color: #E8F0FE;\n",
              "      --fill-color: #1967D2;\n",
              "      --hover-bg-color: #E2EBFA;\n",
              "      --hover-fill-color: #174EA6;\n",
              "      --disabled-fill-color: #AAA;\n",
              "      --disabled-bg-color: #DDD;\n",
              "  }\n",
              "\n",
              "  [theme=dark] .colab-df-quickchart {\n",
              "      --bg-color: #3B4455;\n",
              "      --fill-color: #D2E3FC;\n",
              "      --hover-bg-color: #434B5C;\n",
              "      --hover-fill-color: #FFFFFF;\n",
              "      --disabled-bg-color: #3B4455;\n",
              "      --disabled-fill-color: #666;\n",
              "  }\n",
              "\n",
              "  .colab-df-quickchart {\n",
              "    background-color: var(--bg-color);\n",
              "    border: none;\n",
              "    border-radius: 50%;\n",
              "    cursor: pointer;\n",
              "    display: none;\n",
              "    fill: var(--fill-color);\n",
              "    height: 32px;\n",
              "    padding: 0;\n",
              "    width: 32px;\n",
              "  }\n",
              "\n",
              "  .colab-df-quickchart:hover {\n",
              "    background-color: var(--hover-bg-color);\n",
              "    box-shadow: 0 1px 2px rgba(60, 64, 67, 0.3), 0 1px 3px 1px rgba(60, 64, 67, 0.15);\n",
              "    fill: var(--button-hover-fill-color);\n",
              "  }\n",
              "\n",
              "  .colab-df-quickchart-complete:disabled,\n",
              "  .colab-df-quickchart-complete:disabled:hover {\n",
              "    background-color: var(--disabled-bg-color);\n",
              "    fill: var(--disabled-fill-color);\n",
              "    box-shadow: none;\n",
              "  }\n",
              "\n",
              "  .colab-df-spinner {\n",
              "    border: 2px solid var(--fill-color);\n",
              "    border-color: transparent;\n",
              "    border-bottom-color: var(--fill-color);\n",
              "    animation:\n",
              "      spin 1s steps(1) infinite;\n",
              "  }\n",
              "\n",
              "  @keyframes spin {\n",
              "    0% {\n",
              "      border-color: transparent;\n",
              "      border-bottom-color: var(--fill-color);\n",
              "      border-left-color: var(--fill-color);\n",
              "    }\n",
              "    20% {\n",
              "      border-color: transparent;\n",
              "      border-left-color: var(--fill-color);\n",
              "      border-top-color: var(--fill-color);\n",
              "    }\n",
              "    30% {\n",
              "      border-color: transparent;\n",
              "      border-left-color: var(--fill-color);\n",
              "      border-top-color: var(--fill-color);\n",
              "      border-right-color: var(--fill-color);\n",
              "    }\n",
              "    40% {\n",
              "      border-color: transparent;\n",
              "      border-right-color: var(--fill-color);\n",
              "      border-top-color: var(--fill-color);\n",
              "    }\n",
              "    60% {\n",
              "      border-color: transparent;\n",
              "      border-right-color: var(--fill-color);\n",
              "    }\n",
              "    80% {\n",
              "      border-color: transparent;\n",
              "      border-right-color: var(--fill-color);\n",
              "      border-bottom-color: var(--fill-color);\n",
              "    }\n",
              "    90% {\n",
              "      border-color: transparent;\n",
              "      border-bottom-color: var(--fill-color);\n",
              "    }\n",
              "  }\n",
              "</style>\n",
              "\n",
              "  <script>\n",
              "    async function quickchart(key) {\n",
              "      const quickchartButtonEl =\n",
              "        document.querySelector('#' + key + ' button');\n",
              "      quickchartButtonEl.disabled = true;  // To prevent multiple clicks.\n",
              "      quickchartButtonEl.classList.add('colab-df-spinner');\n",
              "      try {\n",
              "        const charts = await google.colab.kernel.invokeFunction(\n",
              "            'suggestCharts', [key], {});\n",
              "      } catch (error) {\n",
              "        console.error('Error during call to suggestCharts:', error);\n",
              "      }\n",
              "      quickchartButtonEl.classList.remove('colab-df-spinner');\n",
              "      quickchartButtonEl.classList.add('colab-df-quickchart-complete');\n",
              "    }\n",
              "    (() => {\n",
              "      let quickchartButtonEl =\n",
              "        document.querySelector('#df-3335c711-34c6-489f-88bf-cec023a48b65 button');\n",
              "      quickchartButtonEl.style.display =\n",
              "        google.colab.kernel.accessAllowed ? 'block' : 'none';\n",
              "    })();\n",
              "  </script>\n",
              "</div>\n",
              "\n",
              "    </div>\n",
              "  </div>\n"
            ],
            "application/vnd.google.colaboratory.intrinsic+json": {
              "type": "dataframe",
              "variable_name": "merged_new",
              "summary": "{\n  \"name\": \"merged_new\",\n  \"rows\": 20,\n  \"fields\": [\n    {\n      \"column\": \"annotation_id\",\n      \"properties\": {\n        \"dtype\": \"number\",\n        \"std\": 5,\n        \"min\": 1,\n        \"max\": 20,\n        \"num_unique_values\": 20,\n        \"samples\": [\n          1,\n          18,\n          16\n        ],\n        \"semantic_type\": \"\",\n        \"description\": \"\"\n      }\n    },\n    {\n      \"column\": \"classification_ann1\",\n      \"properties\": {\n        \"dtype\": \"category\",\n        \"num_unique_values\": 2,\n        \"samples\": [\n          \"No Trucks\",\n          \"Trucks\"\n        ],\n        \"semantic_type\": \"\",\n        \"description\": \"\"\n      }\n    },\n    {\n      \"column\": \"classification_ann2\",\n      \"properties\": {\n        \"dtype\": \"category\",\n        \"num_unique_values\": 2,\n        \"samples\": [\n          \"No Trucks\",\n          \"Trucks\"\n        ],\n        \"semantic_type\": \"\",\n        \"description\": \"\"\n      }\n    },\n    {\n      \"column\": \"classification_ann3\",\n      \"properties\": {\n        \"dtype\": \"category\",\n        \"num_unique_values\": 2,\n        \"samples\": [\n          \"No Trucks\",\n          \"Trucks\"\n        ],\n        \"semantic_type\": \"\",\n        \"description\": \"\"\n      }\n    }\n  ]\n}"
            }
          },
          "metadata": {},
          "execution_count": 54
        }
      ]
    },
    {
      "cell_type": "markdown",
      "source": [
        "![image.png](data:image/png;base64,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)\n",
        "\n",
        "\n",
        "\n",
        "\n",
        "\n",
        "\n",
        "![image.png](data:image/png;base64,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)"
      ],
      "metadata": {
        "id": "n68JQqP6zGV0"
      }
    },
    {
      "cell_type": "code",
      "source": [
        "N = 20  # no of items\n",
        "k = 2   # no of classes\n",
        "n = 3   # no of annotators\n",
        "\n",
        "n_trucks = []             # to store the no of times the label was   \"truck\"   for each item\n",
        "n_no_trucks = []          # to store the no of times the label was   \"no-truck\"    for each item\n",
        "\n",
        "for index, row in merged_new.iterrows():\n",
        "\n",
        "  count_trucks = sum([\n",
        "        row[\"classification_ann1\"] == \"Trucks\",\n",
        "        row[\"classification_ann2\"] == \"Trucks\",\n",
        "        row[\"classification_ann3\"] == \"Trucks\"\n",
        "    ])\n",
        "  n_trucks.append(count_trucks)\n",
        "\n",
        "  count_no_trucks = sum([\n",
        "        row[\"classification_ann1\"] == \"No Trucks\",\n",
        "        row[\"classification_ann2\"] == \"No Trucks\",\n",
        "        row[\"classification_ann3\"] == \"No Trucks\"\n",
        "    ])\n",
        "  n_no_trucks.append(count_no_trucks)"
      ],
      "metadata": {
        "id": "5p2hLaCVC8Pa"
      },
      "execution_count": null,
      "outputs": []
    },
    {
      "cell_type": "code",
      "source": [
        "n_trucks, n_no_trucks"
      ],
      "metadata": {
        "colab": {
          "base_uri": "https://localhost:8080/"
        },
        "id": "vgiUNJG1N4G2",
        "outputId": "644c0ef8-8252-4e87-8b8e-4165f03b5aab"
      },
      "execution_count": null,
      "outputs": [
        {
          "output_type": "execute_result",
          "data": {
            "text/plain": [
              "([3, 1, 0, 0, 0, 3, 0, 0, 2, 0, 0, 3, 2, 0, 2, 2, 0, 2, 0, 0],\n",
              " [0, 2, 3, 3, 3, 0, 3, 3, 1, 3, 3, 0, 1, 3, 1, 1, 3, 1, 3, 3])"
            ]
          },
          "metadata": {},
          "execution_count": 56
        }
      ]
    },
    {
      "cell_type": "markdown",
      "source": [
        "![image.png](data:image/png;base64,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)\n",
        "\n"
      ],
      "metadata": {
        "id": "QxszD56Txqr0"
      }
    },
    {
      "cell_type": "code",
      "source": [
        "# Calculating observed agreement (P_o) value\n",
        "\n",
        "Prob_observed = 0\n",
        "for i in range(N):\n",
        "  Prob_observed += ( n_trucks[i] * (n_trucks[i] - 1) ) + ( n_no_trucks[i] * (n_no_trucks[i] - 1) )  # total observed\n",
        "                                                                                                #probability taking 2 annotators at a time\n",
        "Prob_observed = Prob_observed / (N*n*(n-1))\n",
        "Prob_observed"
      ],
      "metadata": {
        "colab": {
          "base_uri": "https://localhost:8080/"
        },
        "id": "imDWxx-CMlTc",
        "outputId": "aa6115d4-60b8-47c8-fb6e-fa4d90084577"
      },
      "execution_count": null,
      "outputs": [
        {
          "output_type": "execute_result",
          "data": {
            "text/plain": [
              "0.8"
            ]
          },
          "metadata": {},
          "execution_count": 57
        }
      ]
    },
    {
      "cell_type": "markdown",
      "source": [
        "![image.png](data:image/png;base64,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)"
      ],
      "metadata": {
        "id": "VHceGrTbx5TI"
      }
    },
    {
      "cell_type": "code",
      "source": [
        "# Calculating expected agreement (P_e)\n",
        "\n",
        "Prob_trucks = 0\n",
        "for i in range(N):\n",
        "  Prob_trucks += n_trucks[i]\n",
        "\n",
        "Prob_trucks = Prob_trucks / (N*n)            # Probability of choosing \"trucks\"\n",
        "\n",
        "\n",
        "Prob_no_trucks = 0\n",
        "for i in range(N):\n",
        "  Prob_no_trucks += n_no_trucks[i]\n",
        "\n",
        "Prob_no_trucks = Prob_no_trucks / (N*n)      # Probability of choosing \"no-trucks\"\n",
        "\n",
        "Prob_trucks, Prob_no_trucks"
      ],
      "metadata": {
        "colab": {
          "base_uri": "https://localhost:8080/"
        },
        "id": "CAu0nqlAO_cK",
        "outputId": "b9162236-2e58-4ae3-d3cb-41d435e1f251"
      },
      "execution_count": null,
      "outputs": [
        {
          "output_type": "execute_result",
          "data": {
            "text/plain": [
              "(0.3333333333333333, 0.6666666666666666)"
            ]
          },
          "metadata": {},
          "execution_count": 58
        }
      ]
    },
    {
      "cell_type": "code",
      "source": [
        "Prob_expected = (Prob_trucks)**2 + (Prob_no_trucks)**2\n",
        "Prob_expected                                             # final expected probability"
      ],
      "metadata": {
        "colab": {
          "base_uri": "https://localhost:8080/"
        },
        "id": "UV1DzD2wQUAM",
        "outputId": "949b7ed5-aac6-4575-a359-0fcdfddf9545"
      },
      "execution_count": null,
      "outputs": [
        {
          "output_type": "execute_result",
          "data": {
            "text/plain": [
              "0.5555555555555556"
            ]
          },
          "metadata": {},
          "execution_count": 59
        }
      ]
    },
    {
      "cell_type": "markdown",
      "source": [
        "![image.png](data:image/png;base64,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)"
      ],
      "metadata": {
        "id": "YtPxZUhvyH2D"
      }
    },
    {
      "cell_type": "code",
      "source": [
        "Fleiss_Kappa_custom = (Prob_observed - Prob_expected) / (1 - Prob_expected)   # calculating fleiss kappa"
      ],
      "metadata": {
        "id": "z0zSztILQfwe"
      },
      "execution_count": null,
      "outputs": []
    },
    {
      "cell_type": "markdown",
      "source": [
        "# using inbuilt function from statsmodels"
      ],
      "metadata": {
        "id": "SyLp0hgty1fe"
      }
    },
    {
      "cell_type": "code",
      "source": [
        "contingency_table = np.zeros((N, 2), dtype=int)\n",
        "for i in range(N):\n",
        "    contingency_table[i, 0] = n_trucks[i]           # using inbuilt function to calculate fleiss kappa\n",
        "    contingency_table[i, 1] = n_no_trucks[i]\n",
        "\n",
        "fleiss_kappa_inbuilt = fleiss_kappa(contingency_table)"
      ],
      "metadata": {
        "id": "dpcopkEVR9Xh"
      },
      "execution_count": null,
      "outputs": []
    },
    {
      "cell_type": "markdown",
      "source": [
        "# comparing both methods"
      ],
      "metadata": {
        "id": "SebZ-OWMy-BZ"
      }
    },
    {
      "cell_type": "code",
      "source": [
        "fleiss_kappa_inbuilt, Fleiss_Kappa_custom        # comparing scores from both methods"
      ],
      "metadata": {
        "colab": {
          "base_uri": "https://localhost:8080/"
        },
        "id": "rp0pAdAESB1Z",
        "outputId": "d03553a3-8f91-431d-ccc2-81114b5fdacd"
      },
      "execution_count": null,
      "outputs": [
        {
          "output_type": "execute_result",
          "data": {
            "text/plain": [
              "(0.55, 0.55)"
            ]
          },
          "metadata": {},
          "execution_count": 64
        }
      ]
    },
    {
      "cell_type": "markdown",
      "source": [
        "## **Fleiss Kappa for CV Dataset: 0.55**\n",
        "  - We have taken Classification for the CV dataset from Soham Shrivastava (23110315) from Group 22.\n",
        "  - A score of **0.55** falls into the **moderate agreement** range (between 0.41 and 0.60).\n",
        "  - This shows some agreement between us three annotaters (Vansh, Aditya, and Soham), but there were inconsistencies also.\n",
        "  - Differences in judgmentleeds to disagreements in classifying images as \"Trucks\" or \"No Trucks.\"\n"
      ],
      "metadata": {
        "id": "xYKcdhEHwZpE"
      }
    }
  ]
}